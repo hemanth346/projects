{
  "nbformat": 4,
  "nbformat_minor": 0,
  "metadata": {
    "colab": {
      "name": "CustomLFW&Indian-Face-Dataset.ipynb",
      "provenance": [],
      "collapsed_sections": []
    },
    "kernelspec": {
      "name": "python3",
      "display_name": "Python 3"
    },
    "accelerator": "GPU"
  },
  "cells": [
    {
      "cell_type": "code",
      "metadata": {
        "id": "-eBFgMjW-tXF",
        "colab_type": "code",
        "colab": {
          "base_uri": "https://localhost:8080/",
          "height": 353
        },
        "outputId": "8bdeb674-cd9c-4b9a-cbea-87e0f1521a19"
      },
      "source": [
        "! nvidia-smi"
      ],
      "execution_count": null,
      "outputs": [
        {
          "output_type": "stream",
          "text": [
            "Sat Aug 22 09:27:56 2020       \n",
            "+-----------------------------------------------------------------------------+\n",
            "| NVIDIA-SMI 450.57       Driver Version: 418.67       CUDA Version: 10.1     |\n",
            "|-------------------------------+----------------------+----------------------+\n",
            "| GPU  Name        Persistence-M| Bus-Id        Disp.A | Volatile Uncorr. ECC |\n",
            "| Fan  Temp  Perf  Pwr:Usage/Cap|         Memory-Usage | GPU-Util  Compute M. |\n",
            "|                               |                      |               MIG M. |\n",
            "|===============================+======================+======================|\n",
            "|   0  Tesla K80           Off  | 00000000:00:04.0 Off |                    0 |\n",
            "| N/A   68C    P8    31W / 149W |      0MiB / 11441MiB |      0%      Default |\n",
            "|                               |                      |                 ERR! |\n",
            "+-------------------------------+----------------------+----------------------+\n",
            "                                                                               \n",
            "+-----------------------------------------------------------------------------+\n",
            "| Processes:                                                                  |\n",
            "|  GPU   GI   CI        PID   Type   Process name                  GPU Memory |\n",
            "|        ID   ID                                                   Usage      |\n",
            "|=============================================================================|\n",
            "|  No running processes found                                                 |\n",
            "+-----------------------------------------------------------------------------+\n"
          ],
          "name": "stdout"
        }
      ]
    },
    {
      "cell_type": "markdown",
      "metadata": {
        "id": "zREtW8GpHoRO",
        "colab_type": "text"
      },
      "source": [
        "Downgrade Tensorflow, because the face align script was written in TF1.x"
      ]
    },
    {
      "cell_type": "code",
      "metadata": {
        "id": "IVwTDo6sI2aG",
        "colab_type": "code",
        "colab": {
          "base_uri": "https://localhost:8080/",
          "height": 34
        },
        "outputId": "db9b3c3f-f539-4732-dff5-41a2fde26e12"
      },
      "source": [
        "%tensorflow_version 1.x"
      ],
      "execution_count": null,
      "outputs": [
        {
          "output_type": "stream",
          "text": [
            "TensorFlow 1.x selected.\n"
          ],
          "name": "stdout"
        }
      ]
    },
    {
      "cell_type": "code",
      "metadata": {
        "id": "QAq6azkqKWru",
        "colab_type": "code",
        "colab": {
          "base_uri": "https://localhost:8080/",
          "height": 458
        },
        "outputId": "e7cc1695-71b5-4711-b276-654c31fdde5d"
      },
      "source": [
        "! pip install scipy==1.1.0 numpy==1.16.2"
      ],
      "execution_count": null,
      "outputs": [
        {
          "output_type": "stream",
          "text": [
            "Collecting scipy==1.1.0\n",
            "\u001b[?25l  Downloading https://files.pythonhosted.org/packages/a8/0b/f163da98d3a01b3e0ef1cab8dd2123c34aee2bafbb1c5bffa354cc8a1730/scipy-1.1.0-cp36-cp36m-manylinux1_x86_64.whl (31.2MB)\n",
            "\u001b[K     |████████████████████████████████| 31.2MB 103kB/s \n",
            "\u001b[?25hCollecting numpy==1.16.2\n",
            "\u001b[?25l  Downloading https://files.pythonhosted.org/packages/35/d5/4f8410ac303e690144f0a0603c4b8fd3b986feb2749c435f7cdbb288f17e/numpy-1.16.2-cp36-cp36m-manylinux1_x86_64.whl (17.3MB)\n",
            "\u001b[K     |████████████████████████████████| 17.3MB 201kB/s \n",
            "\u001b[31mERROR: tensorflow 1.15.2 has requirement gast==0.2.2, but you'll have gast 0.3.3 which is incompatible.\u001b[0m\n",
            "\u001b[31mERROR: umap-learn 0.4.6 has requirement numpy>=1.17, but you'll have numpy 1.16.2 which is incompatible.\u001b[0m\n",
            "\u001b[31mERROR: umap-learn 0.4.6 has requirement scipy>=1.3.1, but you'll have scipy 1.1.0 which is incompatible.\u001b[0m\n",
            "\u001b[31mERROR: plotnine 0.6.0 has requirement scipy>=1.2.0, but you'll have scipy 1.1.0 which is incompatible.\u001b[0m\n",
            "\u001b[31mERROR: datascience 0.10.6 has requirement folium==0.2.1, but you'll have folium 0.8.3 which is incompatible.\u001b[0m\n",
            "\u001b[31mERROR: albumentations 0.1.12 has requirement imgaug<0.2.7,>=0.2.5, but you'll have imgaug 0.2.9 which is incompatible.\u001b[0m\n",
            "\u001b[?25hInstalling collected packages: numpy, scipy\n",
            "  Found existing installation: numpy 1.18.5\n",
            "    Uninstalling numpy-1.18.5:\n",
            "      Successfully uninstalled numpy-1.18.5\n",
            "  Found existing installation: scipy 1.4.1\n",
            "    Uninstalling scipy-1.4.1:\n",
            "      Successfully uninstalled scipy-1.4.1\n",
            "Successfully installed numpy-1.16.2 scipy-1.1.0\n"
          ],
          "name": "stdout"
        },
        {
          "output_type": "display_data",
          "data": {
            "application/vnd.colab-display-data+json": {
              "pip_warning": {
                "packages": [
                  "numpy"
                ]
              }
            }
          },
          "metadata": {
            "tags": []
          }
        }
      ]
    },
    {
      "cell_type": "markdown",
      "metadata": {
        "id": "uot5Iz_Dk5LY",
        "colab_type": "text"
      },
      "source": [
        "Get the facenet helper functions, that we will use to align our faces"
      ]
    },
    {
      "cell_type": "code",
      "metadata": {
        "id": "qwtt_hKs1Fj2",
        "colab_type": "code",
        "colab": {
          "base_uri": "https://localhost:8080/",
          "height": 302
        },
        "outputId": "96014151-1376-4ec2-be5b-9cd1f8d3fb84"
      },
      "source": [
        "! git clone https://github.com/davidsandberg/facenet/ && cd facenet && git checkout 096ed770f163957c1e56efa7feeb194773920f6e"
      ],
      "execution_count": null,
      "outputs": [
        {
          "output_type": "stream",
          "text": [
            "Cloning into 'facenet'...\n",
            "remote: Enumerating objects: 3149, done.\u001b[K\n",
            "remote: Total 3149 (delta 0), reused 0 (delta 0), pack-reused 3149\u001b[K\n",
            "Receiving objects: 100% (3149/3149), 2.94 MiB | 14.74 MiB/s, done.\n",
            "Resolving deltas: 100% (2230/2230), done.\n",
            "Note: checking out '096ed770f163957c1e56efa7feeb194773920f6e'.\n",
            "\n",
            "You are in 'detached HEAD' state. You can look around, make experimental\n",
            "changes and commit them, and you can discard any commits you make in this\n",
            "state without impacting any branches by performing another checkout.\n",
            "\n",
            "If you want to create a new branch to retain commits you create, you may\n",
            "do so (now or later) by using -b with the checkout command again. Example:\n",
            "\n",
            "  git checkout -b <new-branch-name>\n",
            "\n",
            "HEAD is now at 096ed77 Merge pull request #707 from AntonOellerer/patch-3\n"
          ],
          "name": "stdout"
        }
      ]
    },
    {
      "cell_type": "markdown",
      "metadata": {
        "id": "QBYJ0ht0fw0v",
        "colab_type": "text"
      },
      "source": [
        "## Process My Indian Faces Dataset"
      ]
    },
    {
      "cell_type": "code",
      "metadata": {
        "id": "Joq3sKlkfwbO",
        "colab_type": "code",
        "colab": {
          "base_uri": "https://localhost:8080/",
          "height": 84
        },
        "outputId": "106a00ba-8347-44fa-bac1-76105df10df1"
      },
      "source": [
        "! gdown 'https://drive.google.com/uc?id=1ypge6vT6l7FaVeW9b1EtuyHPIS96meRs'"
      ],
      "execution_count": null,
      "outputs": [
        {
          "output_type": "stream",
          "text": [
            "Downloading...\n",
            "From: https://drive.google.com/uc?id=1ypge6vT6l7FaVeW9b1EtuyHPIS96meRs\n",
            "To: /content/indian-face-dataset.zip\n",
            "7.79MB [00:00, 16.8MB/s]\n"
          ],
          "name": "stdout"
        }
      ]
    },
    {
      "cell_type": "code",
      "metadata": {
        "id": "l2zVFg6uf9lX",
        "colab_type": "code",
        "colab": {}
      },
      "source": [
        "! unzip -q indian-face-dataset.zip"
      ],
      "execution_count": null,
      "outputs": []
    },
    {
      "cell_type": "markdown",
      "metadata": {
        "id": "jl5bX-ABgiTg",
        "colab_type": "text"
      },
      "source": [
        "count the number of faces"
      ]
    },
    {
      "cell_type": "code",
      "metadata": {
        "id": "DLZtiRCcgLbh",
        "colab_type": "code",
        "colab": {
          "base_uri": "https://localhost:8080/",
          "height": 34
        },
        "outputId": "d32e9ee8-33e7-43ba-89d3-9655390764d2"
      },
      "source": [
        "! ls indian_face_dataset | wc -l"
      ],
      "execution_count": null,
      "outputs": [
        {
          "output_type": "stream",
          "text": [
            "10\n"
          ],
          "name": "stdout"
        }
      ]
    },
    {
      "cell_type": "markdown",
      "metadata": {
        "id": "r6TCVtgMlAZb",
        "colab_type": "text"
      },
      "source": [
        "This script will process and align the faces into `160x160` also writes a bbox file for reference"
      ]
    },
    {
      "cell_type": "code",
      "metadata": {
        "id": "je2ipGxGgm9H",
        "colab_type": "code",
        "colab": {
          "base_uri": "https://localhost:8080/",
          "height": 34
        },
        "outputId": "b02a0f29-7ba9-40e0-fba0-ace6932cac19"
      },
      "source": [
        "%%writefile preprocess.sh\n",
        "#!/bin/bash\n",
        "export PYTHONPATH=\"${PYTHONPATH}:/content/facenet/src\"\n",
        "mkdir -p /content/indian_face_dataset_160\n",
        "for N in {1..4}\n",
        "do\n",
        "    START=$(date +%s)\n",
        "    echo \"=> pass $N started $(date)\"\n",
        "    python /content/facenet/src/align/align_dataset_mtcnn.py /content/indian_face_dataset /content/indian_face_dataset_160 --image_size 160 --margin 32 --random_order --gpu_memory_fraction 0.25 > /dev/null 2>&1\n",
        "    END=$(date +%s)\n",
        "    DIFF=$(( $END - $START ))\n",
        "    echo \"=> pass $N completed in $DIFF seconds\"\n",
        "done"
      ],
      "execution_count": null,
      "outputs": [
        {
          "output_type": "stream",
          "text": [
            "Writing preprocess.sh\n"
          ],
          "name": "stdout"
        }
      ]
    },
    {
      "cell_type": "code",
      "metadata": {
        "id": "G7lsFqV8gwNl",
        "colab_type": "code",
        "colab": {
          "base_uri": "https://localhost:8080/",
          "height": 151
        },
        "outputId": "d581788f-210a-4933-cf04-3cdd20455815"
      },
      "source": [
        "! bash preprocess.sh"
      ],
      "execution_count": null,
      "outputs": [
        {
          "output_type": "stream",
          "text": [
            "=> pass 1 started Sat Aug 22 09:32:30 UTC 2020\n",
            "=> pass 1 completed in 81 seconds\n",
            "=> pass 2 started Sat Aug 22 09:33:51 UTC 2020\n",
            "=> pass 2 completed in 5 seconds\n",
            "=> pass 3 started Sat Aug 22 09:33:56 UTC 2020\n",
            "=> pass 3 completed in 6 seconds\n",
            "=> pass 4 started Sat Aug 22 09:34:03 UTC 2020\n",
            "=> pass 4 completed in 5 seconds\n"
          ],
          "name": "stdout"
        }
      ]
    },
    {
      "cell_type": "code",
      "metadata": {
        "id": "ExZzk7D7hFTG",
        "colab_type": "code",
        "colab": {}
      },
      "source": [
        "! zip -rq indian-face-dataset-160.zip indian_face_dataset_160"
      ],
      "execution_count": null,
      "outputs": []
    },
    {
      "cell_type": "markdown",
      "metadata": {
        "id": "wOguqNmBkrmD",
        "colab_type": "text"
      },
      "source": [
        "This script will process the images, compress them to `jpg` and also split them into `train` and `val` folders for training"
      ]
    },
    {
      "cell_type": "code",
      "metadata": {
        "id": "W_Kz0A3ZhzVw",
        "colab_type": "code",
        "colab": {
          "base_uri": "https://localhost:8080/",
          "height": 34
        },
        "outputId": "a0be9afa-17d7-4f9e-f63a-d22ab73a1fa5"
      },
      "source": [
        "from pathlib import Path\n",
        "from PIL import Image\n",
        "import numpy as np\n",
        "\n",
        "target_folder = Path('/content/indian_face_split_160')\n",
        "target_folder.mkdir(parents=True, exist_ok=True)\n",
        "\n",
        "for pfolder in [fol for fol in Path('/content/indian_face_dataset_160').iterdir() if fol.is_dir()]:\n",
        "    images = list(pfolder.glob('**/*'))\n",
        "    num_images = len(images)\n",
        "    if num_images == 1:\n",
        "        # augment the image since we only have one image\n",
        "        try:\n",
        "            img = Image.open(images[0])\n",
        "            img.convert('RGB')\n",
        "            out = img.transpose(Image.FLIP_LEFT_RIGHT)\n",
        "\n",
        "            # save train image\n",
        "            tr_target_dir = target_folder / 'train' / pfolder.stem\n",
        "            tr_target_dir.mkdir(parents=True, exist_ok=True)\n",
        "            img.save(tr_target_dir / f'{pfolder.stem}_001.jpg')\n",
        "\n",
        "            # save test image\n",
        "            val_target_dir = target_folder / 'val' / pfolder.stem\n",
        "            val_target_dir.mkdir(parents=True, exist_ok=True)\n",
        "            out.save(val_target_dir / f'{pfolder.stem}_002.jpg')\n",
        "\n",
        "        except:\n",
        "            pass\n",
        "    else:\n",
        "        train_split = int(np.floor(0.7 * num_images))\n",
        "        train_images = images[:train_split]\n",
        "        val_images = images[train_split:]\n",
        "\n",
        "        idx = 0\n",
        "\n",
        "        # save training images\n",
        "        for tr_img in train_images:\n",
        "            try:\n",
        "                img = Image.open(tr_img)\n",
        "                img.convert('RGB')\n",
        "                tr_target_dir = target_folder / 'train' / pfolder.stem\n",
        "                tr_target_dir.mkdir(parents=True, exist_ok=True)\n",
        "                img.save(tr_target_dir / f'{pfolder.stem}_{idx:03}.jpg')\n",
        "                idx += 1\n",
        "            except:\n",
        "                pass\n",
        "        # save validation images\n",
        "        for val_img in val_images:\n",
        "            try:\n",
        "                img = Image.open(val_img)\n",
        "                img.convert('RGB')\n",
        "                val_target_dir = target_folder / 'val' / pfolder.stem\n",
        "                val_target_dir.mkdir(parents=True, exist_ok=True)\n",
        "                img.save(val_target_dir / f'{pfolder.stem}_{idx:03}.jpg')\n",
        "                idx += 1\n",
        "            except:\n",
        "                pass\n",
        "print('=> processed files')"
      ],
      "execution_count": null,
      "outputs": [
        {
          "output_type": "stream",
          "text": [
            "=> processed files\n"
          ],
          "name": "stdout"
        }
      ]
    },
    {
      "cell_type": "code",
      "metadata": {
        "id": "OeNAI1y5iVnV",
        "colab_type": "code",
        "colab": {}
      },
      "source": [
        "! zip -rq indian-face-split-160.zip indian_face_split_160"
      ],
      "execution_count": null,
      "outputs": []
    },
    {
      "cell_type": "markdown",
      "metadata": {
        "id": "zou2PWw2gXGP",
        "colab_type": "text"
      },
      "source": [
        "---\n",
        "\n",
        "<h3><strong>------ DANGER DANGER DANGER DANGER DANGER DANGER ------</strong></h3>"
      ]
    },
    {
      "cell_type": "code",
      "metadata": {
        "id": "-dOygFnIgZqN",
        "colab_type": "code",
        "colab": {}
      },
      "source": [
        "! rm -r indian_face_dataset"
      ],
      "execution_count": null,
      "outputs": []
    },
    {
      "cell_type": "code",
      "metadata": {
        "id": "xicK_h6UiGcP",
        "colab_type": "code",
        "colab": {}
      },
      "source": [
        "! rm -r indian_face_split_160"
      ],
      "execution_count": null,
      "outputs": []
    },
    {
      "cell_type": "code",
      "metadata": {
        "id": "29W0ziPQj1vn",
        "colab_type": "code",
        "colab": {}
      },
      "source": [
        "! rm indian-face-split-160.zip"
      ],
      "execution_count": null,
      "outputs": []
    },
    {
      "cell_type": "markdown",
      "metadata": {
        "id": "x0yk2WEQft_S",
        "colab_type": "text"
      },
      "source": [
        "## Process LFW Dataset"
      ]
    },
    {
      "cell_type": "code",
      "metadata": {
        "id": "1wamaOGy5CB8",
        "colab_type": "code",
        "colab": {
          "base_uri": "https://localhost:8080/",
          "height": 202
        },
        "outputId": "b2a2a39c-c0eb-4d4f-b1bb-cea3e0f2514b"
      },
      "source": [
        "! wget http://vis-www.cs.umass.edu/lfw/lfw-funneled.tgz"
      ],
      "execution_count": null,
      "outputs": [
        {
          "output_type": "stream",
          "text": [
            "--2020-08-21 17:54:52--  http://vis-www.cs.umass.edu/lfw/lfw-funneled.tgz\n",
            "Resolving vis-www.cs.umass.edu (vis-www.cs.umass.edu)... 128.119.244.95\n",
            "Connecting to vis-www.cs.umass.edu (vis-www.cs.umass.edu)|128.119.244.95|:80... connected.\n",
            "HTTP request sent, awaiting response... 200 OK\n",
            "Length: 243346528 (232M) [application/x-gzip]\n",
            "Saving to: ‘lfw-funneled.tgz’\n",
            "\n",
            "lfw-funneled.tgz    100%[===================>] 232.07M  37.8MB/s    in 7.5s    \n",
            "\n",
            "2020-08-21 17:55:00 (31.0 MB/s) - ‘lfw-funneled.tgz’ saved [243346528/243346528]\n",
            "\n"
          ],
          "name": "stdout"
        }
      ]
    },
    {
      "cell_type": "code",
      "metadata": {
        "id": "eJ6dp7Fs5GP6",
        "colab_type": "code",
        "colab": {}
      },
      "source": [
        "! tar -zxf lfw-funneled.tgz"
      ],
      "execution_count": null,
      "outputs": []
    },
    {
      "cell_type": "code",
      "metadata": {
        "id": "yC0kZRGN62a5",
        "colab_type": "code",
        "colab": {
          "base_uri": "https://localhost:8080/",
          "height": 34
        },
        "outputId": "c39cae0a-1dce-415a-85dc-5a7cb6a69c6f"
      },
      "source": [
        "! ls lfw_funneled | wc -l"
      ],
      "execution_count": null,
      "outputs": [
        {
          "output_type": "stream",
          "text": [
            "5760\n"
          ],
          "name": "stdout"
        }
      ]
    },
    {
      "cell_type": "code",
      "metadata": {
        "id": "PfyP6tUNBrKv",
        "colab_type": "code",
        "colab": {
          "base_uri": "https://localhost:8080/",
          "height": 34
        },
        "outputId": "54855069-be53-4f6e-e7cf-cc8f260d5b96"
      },
      "source": [
        "%%writefile preprocess.sh\n",
        "#!/bin/bash\n",
        "export PYTHONPATH=\"${PYTHONPATH}:/content/facenet/src\"\n",
        "mkdir -p /content/lfw_funneled_160\n",
        "for N in {1..4}\n",
        "do\n",
        "    START=$(date +%s)\n",
        "    echo \"=> pass $N started $(date)\"\n",
        "    python /content/facenet/src/align/align_dataset_mtcnn.py /content/lfw_funneled /content/lfw_funneled_160 --image_size 160 --margin 32 --random_order --gpu_memory_fraction 0.25 > /dev/null 2>&1\n",
        "    END=$(date +%s)\n",
        "    DIFF=$(( $END - $START ))\n",
        "    echo \"=> pass $N completed in $DIFF seconds\"\n",
        "done"
      ],
      "execution_count": null,
      "outputs": [
        {
          "output_type": "stream",
          "text": [
            "Overwriting preprocess.sh\n"
          ],
          "name": "stdout"
        }
      ]
    },
    {
      "cell_type": "code",
      "metadata": {
        "id": "VHgLhingB-Fl",
        "colab_type": "code",
        "colab": {
          "base_uri": "https://localhost:8080/",
          "height": 151
        },
        "outputId": "2497c96c-e5dd-40e0-d6bc-ce3c9e017967"
      },
      "source": [
        "! bash preprocess.sh"
      ],
      "execution_count": null,
      "outputs": [
        {
          "output_type": "stream",
          "text": [
            "=> pass 1 started Fri Aug 21 18:03:42 UTC 2020\n",
            "=> pass 1 completed in 582 seconds\n",
            "=> pass 2 started Fri Aug 21 18:13:24 UTC 2020\n",
            "=> pass 2 completed in 5 seconds\n",
            "=> pass 3 started Fri Aug 21 18:13:29 UTC 2020\n",
            "=> pass 3 completed in 5 seconds\n",
            "=> pass 4 started Fri Aug 21 18:13:34 UTC 2020\n",
            "=> pass 4 completed in 5 seconds\n"
          ],
          "name": "stdout"
        }
      ]
    },
    {
      "cell_type": "code",
      "metadata": {
        "id": "MzZfUxcfOkEa",
        "colab_type": "code",
        "colab": {}
      },
      "source": [
        "! tar -cjf lfw-funneled-160.tar.bz2 lfw_funneled_160"
      ],
      "execution_count": null,
      "outputs": []
    },
    {
      "cell_type": "markdown",
      "metadata": {
        "id": "AEdRlvMSIbrF",
        "colab_type": "text"
      },
      "source": [
        "---\n",
        "\n",
        "**DANGER**"
      ]
    },
    {
      "cell_type": "code",
      "metadata": {
        "id": "FU5zh-ZoBEfg",
        "colab_type": "code",
        "colab": {}
      },
      "source": [
        "! rm -r lfw_funneled_160"
      ],
      "execution_count": null,
      "outputs": []
    },
    {
      "cell_type": "code",
      "metadata": {
        "id": "DjSE3R7hBLvd",
        "colab_type": "code",
        "colab": {}
      },
      "source": [
        "! export PYTHONPATH=\"${PYTHONPATH}:/content/facenet/src\" && python /content/facenet/src/align/align_dataset_mtcnn.py /content/lfw_funneled /content/lfw_funneled_160 --image_size 160 --margin 32 --random_order --gpu_memory_fraction 0.25"
      ],
      "execution_count": null,
      "outputs": []
    },
    {
      "cell_type": "code",
      "metadata": {
        "id": "Ib3UDX76G82N",
        "colab_type": "code",
        "colab": {}
      },
      "source": [
        ""
      ],
      "execution_count": null,
      "outputs": []
    }
  ]
}